{
 "cells": [
  {
   "cell_type": "code",
   "execution_count": null,
   "metadata": {},
   "outputs": [],
   "source": [
    "import pandas as pd\n",
    "import numpy as np\n",
    "from sklearn.metrics import confusion_matrix"
   ]
  },
  {
   "cell_type": "code",
   "execution_count": null,
   "metadata": {},
   "outputs": [],
   "source": [
    "dataframe = pd.read_csv('Dataset1.csv', encoding= 'unicode_escape', sep =';')\n",
    "print(dataframe)"
   ]
  },
  {
   "cell_type": "code",
   "execution_count": null,
   "metadata": {},
   "outputs": [],
   "source": [
    "y_true = dataframe['Valor real possuir a doença']\n",
    "yPredict = dataframe['Valor modelo possuir a doença']"
   ]
  },
  {
   "cell_type": "code",
   "execution_count": null,
   "metadata": {},
   "outputs": [],
   "source": [
    "# Pegando os valores TN FP FN TP.\n",
    "tn, fp, fn, tp = confusion_matrix(y_true, yPredict).ravel()\n",
    "\n",
    "print(' Verdadeiro Negativo: {}'.format(tn))\n",
    "print(' Falso Positivo: {}'.format(fp))\n",
    "print(' Falso Negativo: {}'.format(fn))\n",
    "print(' Verdadeiro Positivo: {}'.format(tp))"
   ]
  },
  {
   "cell_type": "code",
   "execution_count": null,
   "metadata": {},
   "outputs": [],
   "source": [
    "# Armazenando a matriz de confusão\n",
    "\n",
    "cfMatrix = confusion_matrix(y_true, yPredict)\n",
    "\n",
    "# Importando o seaborn\n",
    "import seaborn as sns\n",
    "\n",
    "# Plotando a matriz de confusão\n",
    "sns.heatmap(cfMatrix, annot=True)"
   ]
  },
  {
   "cell_type": "code",
   "execution_count": null,
   "metadata": {},
   "outputs": [],
   "source": [
    "# Plotando a matriz de confusão\n",
    "sns.heatmap(cfMatrix/np.sum(cfMatrix), annot=True, fmt= '.2%', cmap='Blues')"
   ]
  },
  {
   "cell_type": "code",
   "execution_count": null,
   "metadata": {},
   "outputs": [],
   "source": [
    "from sklearn.metrics import accuracy_score\n",
    "\n",
    "accuracy_score(y_true, yPredict) * 100"
   ]
  },
  {
   "cell_type": "code",
   "execution_count": null,
   "metadata": {},
   "outputs": [],
   "source": [
    "from sklearn.metrics import precision_score\n",
    "\n",
    "precision_score(y_true, yPredict) * 100"
   ]
  },
  {
   "cell_type": "code",
   "execution_count": null,
   "metadata": {},
   "outputs": [],
   "source": [
    "from sklearn.metrics import recall_score\n",
    "\n",
    "recall_score(y_true, yPredict) * 100"
   ]
  },
  {
   "cell_type": "code",
   "execution_count": 16,
   "metadata": {},
   "outputs": [
    {
     "data": {
      "text/plain": [
       "50.0"
      ]
     },
     "execution_count": 16,
     "metadata": {},
     "output_type": "execute_result"
    }
   ],
   "source": [
    "from sklearn.metrics import f1_score\n",
    "\n",
    "f1_score(y_true, yPredict) * 100"
   ]
  },
  {
   "cell_type": "code",
   "execution_count": 15,
   "metadata": {},
   "outputs": [
    {
     "name": "stdout",
     "output_type": "stream",
     "text": [
      "Acurácia: 0.8282828282828283\n",
      "Precisão: 0.716374269005848\n",
      "Recall: 0.813953488372093\n"
     ]
    }
   ],
   "source": [
    "# Titanic\n",
    "\n",
    "VN = 493\n",
    "FN = 56\n",
    "FP = 97\n",
    "VP = 245\n",
    "\n",
    "Total = VN + FN + FP + VP\n",
    "\n",
    "# Acurácia\n",
    "acuracia = (VN + VP) / Total\n",
    "precisao = VP / (VP + FP)\n",
    "recall = VP / (VP + FN)\n",
    "\n",
    "print(f'Acurácia: {acuracia}\\nPrecisão: {precisao}\\nRecall: {recall}')"
   ]
  }
 ],
 "metadata": {
  "kernelspec": {
   "display_name": "Python 3",
   "language": "python",
   "name": "python3"
  },
  "language_info": {
   "codemirror_mode": {
    "name": "ipython",
    "version": 3
   },
   "file_extension": ".py",
   "mimetype": "text/x-python",
   "name": "python",
   "nbconvert_exporter": "python",
   "pygments_lexer": "ipython3",
   "version": "3.12.2"
  }
 },
 "nbformat": 4,
 "nbformat_minor": 2
}
